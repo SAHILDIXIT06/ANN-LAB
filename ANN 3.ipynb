{
 "cells": [
  {
   "cell_type": "code",
   "execution_count": 13,
   "id": "2f065797-3ff7-454e-a0ee-852d5e5978a8",
   "metadata": {},
   "outputs": [
    {
     "ename": "SyntaxError",
     "evalue": "f-string: expecting a valid expression after '{' (227014841.py, line 35)",
     "output_type": "error",
     "traceback": [
      "\u001b[1;36m  Cell \u001b[1;32mIn[13], line 35\u001b[1;36m\u001b[0m\n\u001b[1;33m    print('forward _results' , f'X{ for i in range(len(Y)+1)}' , forward_result)\u001b[0m\n\u001b[1;37m                                    ^\u001b[0m\n\u001b[1;31mSyntaxError\u001b[0m\u001b[1;31m:\u001b[0m f-string: expecting a valid expression after '{'\n"
     ]
    }
   ],
   "source": [
    "import numpy as np\n",
    "\n",
    "# Define functions\n",
    "def calc_weight(X, Y):\n",
    "    return np.dot(X.T, Y)\n",
    "\n",
    "def bipolar_activation(matrix):\n",
    "    return np.where(matrix > 0, 1, -1)\n",
    "\n",
    "def forward(Y, weight):\n",
    "    return bipolar_activation(np.dot(Y, weight.T))\n",
    "\n",
    "def backward(X, weight):\n",
    "    return bipolar_activation(np.dot(X, weight))\n",
    "\n",
    "# Define X and Y vector pairs\n",
    "X = np.array([\n",
    "    [1, 1, 1, 1, 1, 1],\n",
    "    [-1, -1, -1, -1, -1, -1]\n",
    "])\n",
    "\n",
    "Y = np.array([\n",
    "    [1, 1, 1],\n",
    "    [-1, -1, -1]\n",
    "])\n",
    "\n",
    "# Calculate weight matrix\n",
    "W = calc_weight(X, Y)\n",
    "\n",
    "# Forward and backward test results\n",
    "forward_results = [forward(Y[i], W) for i in range(len(Y))]\n",
    "backward_results = [backward(X[i], W) for i in range(len(X))]\n",
    "\n",
    "print('weight matrix:', W)\n",
    "print('forward _results' , f'X{ for i in range(len(Y)+1)}' , forward_result)"
   ]
  },
  {
   "cell_type": "code",
   "execution_count": null,
   "id": "f24639b2-442f-4c46-876b-d3922ad84411",
   "metadata": {},
   "outputs": [],
   "source": []
  }
 ],
 "metadata": {
  "kernelspec": {
   "display_name": "Python 3 (ipykernel)",
   "language": "python",
   "name": "python3"
  },
  "language_info": {
   "codemirror_mode": {
    "name": "ipython",
    "version": 3
   },
   "file_extension": ".py",
   "mimetype": "text/x-python",
   "name": "python",
   "nbconvert_exporter": "python",
   "pygments_lexer": "ipython3",
   "version": "3.13.0"
  }
 },
 "nbformat": 4,
 "nbformat_minor": 5
}
