{
 "cells": [
  {
   "cell_type": "code",
   "execution_count": 10,
   "id": "6dcc4573-04f4-4577-83a2-0468f4793b98",
   "metadata": {},
   "outputs": [
    {
     "name": "stdout",
     "output_type": "stream",
     "text": [
      "weight matrix: \n",
      " [[2 2 2]\n",
      " [2 2 2]\n",
      " [2 2 2]\n",
      " [2 2 2]\n",
      " [2 2 2]\n",
      " [2 2 2]]\n",
      "forward testing:\n",
      "x1: [1 1 1 1 1 1]\n",
      "x2: [-1 -1 -1 -1 -1 -1]\n",
      "backward testing:\n",
      "y1: [1 1 1]\n",
      "y2: [-1 -1 -1]\n"
     ]
    }
   ],
   "source": [
    "import numpy as np\n",
    "def cal_weight(x,y):\n",
    "    return np.dot(x.T,y)\n",
    "\n",
    "def bipolar_function(matrix):\n",
    "    return np.where(matrix>0,1,-1)\n",
    "\n",
    "def forward(y,w):\n",
    "    return bipolar_function(np.dot(y,w.T))\n",
    "\n",
    "def backward(x,w):\n",
    "    return bipolar_function(np.dot(x,w))\n",
    "# define 2 pairs of vector\n",
    "x= np.array([ [1,1,1,1,1,1],[-1,-1,-1,-1,-1,-1]])\n",
    "y= np.array([[1,1,1],[-1,-1,-1]])\n",
    "\n",
    "#calculate weight matrix\n",
    "w = cal_weight(x,y)\n",
    "print('weight matrix: \\n',w)\n",
    "\n",
    "#forward testing\n",
    "print('forward testing:')\n",
    "for i in range(len(y)):\n",
    "    print(f'x{i+1}:',forward(y[i],w))\n",
    "\n",
    "#backward testing\n",
    "print('backward testing:')\n",
    "for i in range(len(x)):\n",
    "    print(f'y{i+1}:',backward(x[i],w))"
   ]
  },
  {
   "cell_type": "code",
   "execution_count": null,
   "id": "2392bff2-0e63-4883-8939-6c71aeb446a1",
   "metadata": {},
   "outputs": [],
   "source": []
  },
  {
   "cell_type": "code",
   "execution_count": null,
   "id": "aad7f98c-8894-43e1-ae12-2d90faf14666",
   "metadata": {},
   "outputs": [],
   "source": []
  }
 ],
 "metadata": {
  "kernelspec": {
   "display_name": "Python 3 (ipykernel)",
   "language": "python",
   "name": "python3"
  },
  "language_info": {
   "codemirror_mode": {
    "name": "ipython",
    "version": 3
   },
   "file_extension": ".py",
   "mimetype": "text/x-python",
   "name": "python",
   "nbconvert_exporter": "python",
   "pygments_lexer": "ipython3",
   "version": "3.13.0"
  }
 },
 "nbformat": 4,
 "nbformat_minor": 5
}
