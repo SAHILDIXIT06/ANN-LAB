{
 "cells": [
  {
   "cell_type": "code",
   "execution_count": 2,
   "id": "0b556a86-c160-410a-b4b2-729113d27644",
   "metadata": {},
   "outputs": [
    {
     "name": "stdout",
     "output_type": "stream",
     "text": [
      "Input Pattern\t\tMatched Cluster\n",
      "----------------------------------------\n",
      "[1 0 0 0 1 0 1]\tCluster 0\n",
      "[0 1 0 0 0 1 1]\tCluster 1\n",
      "[0 0 1 0 1 1 0]\tCluster 2\n",
      "[0 0 0 1 0 1 1]\tCluster 3\n",
      "[1 1 0 0 0 1 0]\tCluster -1\n",
      "[0 0 0 0 0 0 1]\tCluster 0\n"
     ]
    }
   ],
   "source": [
    "import numpy as np\n",
    "\n",
    "class ART:\n",
    "    def __init__(self, rho):\n",
    "        self.rho = rho      # Vigilance parameter\n",
    "        self.clusters = []  # Stores learned patterns\n",
    "\n",
    "    def match(self, x, w):\n",
    "        return np.sum(np.minimum(x, w)) / np.sum(x) >= self.rho\n",
    "\n",
    "    def train(self, data):\n",
    "        for x in data:\n",
    "            for i, w in enumerate(self.clusters):\n",
    "                if self.match(x, w):\n",
    "                    self.clusters[i] = np.minimum(w, x)\n",
    "                    break\n",
    "            else:\n",
    "                self.clusters.append(x.copy())  # Create new cluster\n",
    "\n",
    "    def predict(self, x):\n",
    "        for i, w in enumerate(self.clusters):\n",
    "            if self.match(x, w):\n",
    "                return i\n",
    "        return -1  # No matching cluster found\n",
    "\n",
    "# Input patterns (training data)\n",
    "patterns = np.array([\n",
    "    [1, 0, 0, 0, 1, 0, 1],\n",
    "    [0, 1, 0, 0, 0, 1, 1],\n",
    "    [0, 0, 1, 0, 1, 1, 0],\n",
    "    [0, 0, 0, 1, 0, 1, 1]\n",
    "])\n",
    "\n",
    "# Test patterns\n",
    "tests = np.array([\n",
    "    [1, 0, 0, 0, 1, 0, 1],\n",
    "    [0, 1, 0, 0, 0, 1, 1],\n",
    "    [0, 0, 1, 0, 1, 1, 0],\n",
    "    [0, 0, 0, 1, 0, 1, 1],\n",
    "    [1, 1, 0, 0, 0, 1, 0],\n",
    "    [0, 0, 0, 0, 0, 0, 1]\n",
    "])\n",
    "\n",
    "# Create and train ART network\n",
    "net = ART(rho=0.7)\n",
    "net.train(patterns)\n",
    "\n",
    "# Display results\n",
    "print(\"Input Pattern\\t\\tMatched Cluster\")\n",
    "print(\"----------------------------------------\")\n",
    "for x in tests:\n",
    "    print(f\"{x}\\tCluster {net.predict(x)}\")\n"
   ]
  },
  {
   "cell_type": "code",
   "execution_count": null,
   "id": "b979bb94-d2ee-4030-baf1-e93243ffcb8f",
   "metadata": {},
   "outputs": [],
   "source": []
  }
 ],
 "metadata": {
  "kernelspec": {
   "display_name": "Python 3 (ipykernel)",
   "language": "python",
   "name": "python3"
  },
  "language_info": {
   "codemirror_mode": {
    "name": "ipython",
    "version": 3
   },
   "file_extension": ".py",
   "mimetype": "text/x-python",
   "name": "python",
   "nbconvert_exporter": "python",
   "pygments_lexer": "ipython3",
   "version": "3.13.0"
  }
 },
 "nbformat": 4,
 "nbformat_minor": 5
}
