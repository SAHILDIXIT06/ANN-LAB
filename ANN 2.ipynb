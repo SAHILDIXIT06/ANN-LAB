{
 "cells": [
  {
   "cell_type": "code",
   "execution_count": 17,
   "id": "406ac51b-59bf-47d0-b9a2-bfa89078e07b",
   "metadata": {},
   "outputs": [
    {
     "name": "stdout",
     "output_type": "stream",
     "text": [
      "A B and-not(A,B)\n",
      "0 0 0\n",
      "0 1 0\n",
      "1 0 1\n",
      "1 1 0\n"
     ]
    }
   ],
   "source": [
    "#Generate ANDNOT function using McCulloch-Pitts neural net by a python program\n",
    "\n",
    "def andnot_mcculloch_pitts(A,B):\n",
    "    #define weights\n",
    "    w1=1\n",
    "    w2=-1\n",
    "    #define threeshold\n",
    "    theta=1\n",
    "    w_sum=(A*w1)+(B*w2)\n",
    "    #compare sum with \n",
    "    if w_sum==theta:\n",
    "        return 1\n",
    "    else:\n",
    "        return 0\n",
    "\n",
    "input_values=[(0,0),(0,1),(1,0),(1,1)]\n",
    "print(\"A B and-not(A,B)\")\n",
    "for a,b in input_values :\n",
    "    print(a,b,andnot_mcculloch_pitts(a,b))"
   ]
  },
  {
   "cell_type": "code",
   "execution_count": null,
   "id": "9bb53a2b-afad-4e2e-906b-567b76bc4438",
   "metadata": {},
   "outputs": [],
   "source": []
  },
  {
   "cell_type": "code",
   "execution_count": null,
   "id": "1e7c08c6-828b-4afb-b978-9644d97d5c05",
   "metadata": {},
   "outputs": [],
   "source": []
  }
 ],
 "metadata": {
  "kernelspec": {
   "display_name": "Python 3 (ipykernel)",
   "language": "python",
   "name": "python3"
  },
  "language_info": {
   "codemirror_mode": {
    "name": "ipython",
    "version": 3
   },
   "file_extension": ".py",
   "mimetype": "text/x-python",
   "name": "python",
   "nbconvert_exporter": "python",
   "pygments_lexer": "ipython3",
   "version": "3.13.0"
  }
 },
 "nbformat": 4,
 "nbformat_minor": 5
}
